{
  "nbformat": 4,
  "nbformat_minor": 0,
  "metadata": {
    "colab": {
      "name": "Copy of Untitled0.ipynb",
      "version": "0.3.2",
      "provenance": [],
      "collapsed_sections": [],
      "include_colab_link": true
    },
    "kernelspec": {
      "name": "python3",
      "display_name": "Python 3"
    },
    "accelerator": "GPU"
  },
  "cells": [
    {
      "cell_type": "markdown",
      "metadata": {
        "id": "view-in-github",
        "colab_type": "text"
      },
      "source": [
        "<a href=\"https://colab.research.google.com/github/RichardKGitHub/ProgrammingGit/blob/master/colab_Keras_Uebung_2.ipynb\" target=\"_parent\"><img src=\"https://colab.research.google.com/assets/colab-badge.svg\" alt=\"Open In Colab\"/></a>"
      ]
    },
    {
      "metadata": {
        "id": "eBK_cUpoBm--",
        "colab_type": "code",
        "outputId": "a52a40ca-0938-4b63-a8da-93b88b5ecb10",
        "colab": {
          "base_uri": "https://localhost:8080/",
          "height": 136
        }
      },
      "cell_type": "code",
      "source": [
        "# colab second excample\n",
        "\n",
        "import keras\n",
        "from keras.datasets import mnist\n",
        "from keras.models import Sequential\n",
        "from keras.layers import Dense, Dropout, Flatten\n",
        "from keras.layers import Conv2D, MaxPooling2D\n",
        "import numpy as np\n",
        "\n",
        "batch_size = 128\n",
        "num_classes = 10\n",
        "epochs = 12\n",
        "\n",
        "#Impage dimensions\n",
        "img_rows, img_cols = 28, 28\n",
        "\n",
        "#load Data\n",
        "(traindata, trainlabels), (testdata, testlabels) = mnist.load_data()\n",
        "\n",
        "print(traindata.shape)\n",
        "print(trainlabels.shape)\n",
        "print(testdata.shape)\n",
        "print(testlabels.shape)\n",
        "\n",
        "traindata = traindata.reshape(traindata.shape[0],traindata.shape[1],traindata.shape[2],1)\n",
        "testdata = testdata.reshape(testdata.shape[0],testdata.shape[1],testdata.shape[2],1)\n",
        "print(\"traindatashape: \" + str(traindata.shape))\n",
        "print(\"testdatashape: \" + str(testdata.shape))\n",
        "\n",
        "print (testlabels[:5])\n",
        "\n",
        "#convert labels to binary class (Nr.2 = [0,0,1,0,0,0,0,0,0,0])\n",
        "trainlabels = keras.utils.to_categorical(trainlabels, num_classes)\n",
        "testlabels = keras.utils.to_categorical(testlabels, num_classes)\n",
        "#print(trainlabels[:10])\n",
        "#print(testlabels[:10])"
      ],
      "execution_count": 8,
      "outputs": [
        {
          "output_type": "stream",
          "text": [
            "(60000, 28, 28)\n",
            "(60000,)\n",
            "(10000, 28, 28)\n",
            "(10000,)\n",
            "traindatashape: (60000, 28, 28, 1)\n",
            "testdatashape: (10000, 28, 28, 1)\n",
            "[7 2 1 0 4]\n"
          ],
          "name": "stdout"
        }
      ]
    },
    {
      "metadata": {
        "id": "liGzEVQjvF7m",
        "colab_type": "code",
        "colab": {
          "base_uri": "https://localhost:8080/",
          "height": 459
        },
        "outputId": "f8f2b397-45d1-4e66-d88b-2239ed69df47"
      },
      "cell_type": "code",
      "source": [
        "model = keras.Sequential([keras.layers.Conv2D(32, kernel_size=(3, 3),\n",
        "                                      activation='relu',\n",
        "                                      input_shape=(28,28,1)),\n",
        "                         keras.layers.Conv2D(64, (3, 3), activation = 'relu'),\n",
        "                         keras.layers.MaxPooling2D(pool_size=(2, 2)),\n",
        "                         keras.layers.Dropout(0.25),\n",
        "                          #Dropout randomly swiches of neurons --> force new pathfinding\n",
        "                         keras.layers.Flatten(),\n",
        "                         keras.layers.Dense(128, activation='relu')\n",
        "                          #Dense is used for class prediction (0 bis 127, später 0 bis 9)\n",
        "                         ])\n",
        "#weiterer Weg um Schichten zu definieren...\n",
        "model.add(Dropout(0.5))\n",
        "model.add(Dense(num_classes, activation='softmax'))\n",
        "\n",
        "model.compile(optimizer = keras.optimizers.Adadelta(),\n",
        "             loss = keras.losses.categorical_crossentropy,\n",
        "             metrics = ['accuracy'])\n",
        "\n",
        "#calculates the val_loss and and val_acc with the testdata after all traindata is fitted  (loss and acc entspricht der momentanen traindata die gefitted wird)\n",
        "model.fit(traindata, trainlabels, \n",
        "          epochs = epochs,\n",
        "          verbose = 1,\n",
        "          validation_data = (testdata, testlabels))\n",
        "\n",
        "\n",
        "#TPU:\n",
        "#60000/60000 [==============================] - 224s 4ms/step - loss: 0.6832 - acc: 0.9044 - val_loss: 0.0754 - val_acc: 0.9771\n",
        "#10000/10000 [==============================] - 8s 847us/step\n",
        "#GPU:\n",
        "#60000/60000 [==============================] - 29s 478us/step - loss: 1.2724 - acc: 0.8711 - val_loss: 0.0877 - val_acc: 0.9753\n",
        "#10000/10000 [==============================] - 1s 102us/step\n",
        "#None:\n",
        "#60000/60000 [==============================] - 202s 3ms/step - loss: 1.2191 - acc: 0.8714 - val_loss: 0.0677 - val_acc: 0.9795\n",
        "#10000/10000 [==============================] - 8s 792us/step"
      ],
      "execution_count": 9,
      "outputs": [
        {
          "output_type": "stream",
          "text": [
            "Train on 60000 samples, validate on 10000 samples\n",
            "Epoch 1/12\n",
            "60000/60000 [==============================] - 25s 419us/step - loss: 2.1352 - acc: 0.8199 - val_loss: 0.0647 - val_acc: 0.9795\n",
            "Epoch 2/12\n",
            "60000/60000 [==============================] - 24s 405us/step - loss: 0.1078 - acc: 0.9695 - val_loss: 0.0574 - val_acc: 0.9821\n",
            "Epoch 3/12\n",
            "60000/60000 [==============================] - 24s 404us/step - loss: 0.0824 - acc: 0.9771 - val_loss: 0.0473 - val_acc: 0.9850\n",
            "Epoch 4/12\n",
            "60000/60000 [==============================] - 24s 402us/step - loss: 0.0716 - acc: 0.9793 - val_loss: 0.0437 - val_acc: 0.9862\n",
            "Epoch 5/12\n",
            "60000/60000 [==============================] - 24s 403us/step - loss: 0.0680 - acc: 0.9816 - val_loss: 0.0441 - val_acc: 0.9852\n",
            "Epoch 6/12\n",
            "60000/60000 [==============================] - 24s 397us/step - loss: 0.0725 - acc: 0.9809 - val_loss: 0.0456 - val_acc: 0.9872\n",
            "Epoch 7/12\n",
            "60000/60000 [==============================] - 24s 401us/step - loss: 0.0760 - acc: 0.9808 - val_loss: 0.0649 - val_acc: 0.9853\n",
            "Epoch 8/12\n",
            "60000/60000 [==============================] - 24s 401us/step - loss: 0.0751 - acc: 0.9811 - val_loss: 0.0455 - val_acc: 0.9868\n",
            "Epoch 9/12\n",
            "60000/60000 [==============================] - 24s 401us/step - loss: 0.0768 - acc: 0.9811 - val_loss: 0.0453 - val_acc: 0.9854\n",
            "Epoch 10/12\n",
            "60000/60000 [==============================] - 24s 403us/step - loss: 0.0771 - acc: 0.9810 - val_loss: 0.0595 - val_acc: 0.9861\n",
            "Epoch 11/12\n",
            "60000/60000 [==============================] - 24s 399us/step - loss: 0.0785 - acc: 0.9812 - val_loss: 0.0592 - val_acc: 0.9861\n",
            "Epoch 12/12\n",
            "60000/60000 [==============================] - 24s 400us/step - loss: 0.0816 - acc: 0.9809 - val_loss: 0.0449 - val_acc: 0.9884\n"
          ],
          "name": "stdout"
        },
        {
          "output_type": "execute_result",
          "data": {
            "text/plain": [
              "<keras.callbacks.History at 0x7f2d24dc3588>"
            ]
          },
          "metadata": {
            "tags": []
          },
          "execution_count": 9
        }
      ]
    },
    {
      "metadata": {
        "id": "jGJPIGjIHS4j",
        "colab_type": "code",
        "colab": {
          "base_uri": "https://localhost:8080/",
          "height": 231
        },
        "outputId": "9175aec6-efe4-475f-9291-8dbff4342e02"
      },
      "cell_type": "code",
      "source": [
        "test_information = model.evaluate(testdata, testlabels)\n",
        "print(\"Test_loss: \" + str(test_information[0]))\n",
        "print(\"Test_accuracy: \" + str(test_information[1]))\n",
        "\n",
        "predictions = model.predict(testdata)\n",
        "print(\"pridictions[0]: \" + str(predictions[0]))\n",
        "print(\"testlabels[0]: \" + str(testlabels[0]))\n",
        "\n"
      ],
      "execution_count": 1,
      "outputs": [
        {
          "output_type": "error",
          "ename": "NameError",
          "evalue": "ignored",
          "traceback": [
            "\u001b[0;31m---------------------------------------------------------------------------\u001b[0m",
            "\u001b[0;31mNameError\u001b[0m                                 Traceback (most recent call last)",
            "\u001b[0;32m<ipython-input-1-7aa9840a1a46>\u001b[0m in \u001b[0;36m<module>\u001b[0;34m()\u001b[0m\n\u001b[0;32m----> 1\u001b[0;31m \u001b[0mtest_information\u001b[0m \u001b[0;34m=\u001b[0m \u001b[0mmodel\u001b[0m\u001b[0;34m.\u001b[0m\u001b[0mevaluate\u001b[0m\u001b[0;34m(\u001b[0m\u001b[0mtestdata\u001b[0m\u001b[0;34m,\u001b[0m \u001b[0mtestlabels\u001b[0m\u001b[0;34m)\u001b[0m\u001b[0;34m\u001b[0m\u001b[0;34m\u001b[0m\u001b[0m\n\u001b[0m\u001b[1;32m      2\u001b[0m \u001b[0mprint\u001b[0m\u001b[0;34m(\u001b[0m\u001b[0;34m\"Test_loss: \"\u001b[0m \u001b[0;34m+\u001b[0m \u001b[0mstr\u001b[0m\u001b[0;34m(\u001b[0m\u001b[0mtest_information\u001b[0m\u001b[0;34m[\u001b[0m\u001b[0;36m0\u001b[0m\u001b[0;34m]\u001b[0m\u001b[0;34m)\u001b[0m\u001b[0;34m)\u001b[0m\u001b[0;34m\u001b[0m\u001b[0;34m\u001b[0m\u001b[0m\n\u001b[1;32m      3\u001b[0m \u001b[0mprint\u001b[0m\u001b[0;34m(\u001b[0m\u001b[0;34m\"Test_accuracy: \"\u001b[0m \u001b[0;34m+\u001b[0m \u001b[0mstr\u001b[0m\u001b[0;34m(\u001b[0m\u001b[0mtest_information\u001b[0m\u001b[0;34m[\u001b[0m\u001b[0;36m1\u001b[0m\u001b[0;34m]\u001b[0m\u001b[0;34m)\u001b[0m\u001b[0;34m)\u001b[0m\u001b[0;34m\u001b[0m\u001b[0;34m\u001b[0m\u001b[0m\n\u001b[1;32m      4\u001b[0m \u001b[0;34m\u001b[0m\u001b[0m\n\u001b[1;32m      5\u001b[0m \u001b[0mpredictions\u001b[0m \u001b[0;34m=\u001b[0m \u001b[0mmodel\u001b[0m\u001b[0;34m.\u001b[0m\u001b[0mpredict\u001b[0m\u001b[0;34m(\u001b[0m\u001b[0mtestdata\u001b[0m\u001b[0;34m)\u001b[0m\u001b[0;34m\u001b[0m\u001b[0;34m\u001b[0m\u001b[0m\n",
            "\u001b[0;31mNameError\u001b[0m: name 'model' is not defined"
          ]
        }
      ]
    }
  ]
}
