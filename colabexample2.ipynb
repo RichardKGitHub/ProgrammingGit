{
  "nbformat": 4,
  "nbformat_minor": 0,
  "metadata": {
    "colab": {
      "name": "Untitled0.ipynb",
      "version": "0.3.2",
      "provenance": [],
      "collapsed_sections": [],
      "include_colab_link": true
    },
    "kernelspec": {
      "name": "python3",
      "display_name": "Python 3"
    }
  },
  "cells": [
    {
      "cell_type": "markdown",
      "metadata": {
        "id": "view-in-github",
        "colab_type": "text"
      },
      "source": [
        "<a href=\"https://colab.research.google.com/github/RichardKGitHub/ProgrammingGit/blob/master/colabexample2.ipynb\" target=\"_parent\"><img src=\"https://colab.research.google.com/assets/colab-badge.svg\" alt=\"Open In Colab\"/></a>"
      ]
    },
    {
      "metadata": {
        "id": "eBK_cUpoBm--",
        "colab_type": "code",
        "colab": {
          "base_uri": "https://localhost:8080/",
          "height": 138
        },
        "outputId": "31949519-ae9c-4f7d-ccb4-ea6c45df07f7"
      },
      "cell_type": "code",
      "source": [
        "# colab second excample\n",
        "\n",
        "import keras\n",
        "from keras.datasets import mnist\n",
        "from keras.models import Sequential\n",
        "from keras.layers import Dense, Dropout, Flatten\n",
        "from keras.layers import Conv2D, MaxPooling2D\n",
        "import numpy as np\n",
        "\n",
        "batch_size = 128\n",
        "num_classes = 10\n",
        "epochs = 12\n",
        "\n",
        "#Impage dimensions\n",
        "img_rows, img_cols = 28, 28\n",
        "\n",
        "#load Data\n",
        "(traindata, trainlabels), (testdata, testlabels) = mnist.load_data()\n",
        "\n",
        "print(traindata.shape)\n",
        "print(trainlabels.shape)\n",
        "print(testdata.shape)\n",
        "print(testlabels.shape)\n",
        "\n",
        "traindata = traindata.reshape(traindata.shape[0],traindata.shape[1],traindata.shape[2],1)\n",
        "traindata = testdata.reshape(testdata.shape[0],testdata.shape[1],testdata.shape[2],1)\n",
        "print(\"traindatashape: \" + str(traindata.shape))\n",
        "print(\"testdatashape: \" + str(testdata.shape))\n",
        "\n",
        "print (testlabels[:5])\n",
        "\n",
        "#convert labels to binary class (Nr.3 = [0,0,1,0,0,0,0,0,0,0])\n",
        "trainlabels = keras.utils.to_categorical(trainlabels, num_classes)\n",
        "testlabels = keras.utils.to_categorical(testlabels, num_classes)\n",
        "#print(trainlabels[:10])\n",
        "#print(testlabels[:10])\n",
        "\n",
        "model = keras.Sequential([keras.layers.Conv2D(32, kernel_size=(3, 3),\n",
        "                                      activation='relu',\n",
        "                                      input_shape=(28,28,1)),\n",
        "                         keras.layers.Conv2D(64, (3, 3), activation = 'relu'),\n",
        "                         keras.layers.MaxPooling2D(pool_size=(2, 2)),\n",
        "                         keras.layers.Dropout(0.25),\n",
        "                          #Dropout randomly swiches of neurons --> force new pathfinding\n",
        "                         keras.layers.Flatten(),\n",
        "                         keras.layers.Dense(128, activation='relu')\n",
        "                          #Dense is used for class prediction (0 bis 127, später 0 bis 9)\n",
        "                         keras.layers.Dropout(0.5),\n",
        "                         ])\n",
        "model.add(Dense(num_classes, activation='softmax'))\n",
        "\n",
        "#model.compile()"
      ],
      "execution_count": 23,
      "outputs": [
        {
          "output_type": "error",
          "ename": "SyntaxError",
          "evalue": "ignored",
          "traceback": [
            "\u001b[0;36m  File \u001b[0;32m\"<ipython-input-23-812c919a86b4>\"\u001b[0;36m, line \u001b[0;32m46\u001b[0m\n\u001b[0;31m    keras.layers.Dropout(0.5),\u001b[0m\n\u001b[0m        ^\u001b[0m\n\u001b[0;31mSyntaxError\u001b[0m\u001b[0;31m:\u001b[0m invalid syntax\n"
          ]
        }
      ]
    },
    {
      "metadata": {
        "id": "jGJPIGjIHS4j",
        "colab_type": "code",
        "colab": {}
      },
      "cell_type": "code",
      "source": [
        "\n",
        "\n"
      ],
      "execution_count": 0,
      "outputs": []
    }
  ]
}